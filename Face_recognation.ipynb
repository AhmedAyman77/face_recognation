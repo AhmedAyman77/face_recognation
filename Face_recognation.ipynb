{
 "cells": [
  {
   "cell_type": "code",
   "execution_count": 1,
   "metadata": {},
   "outputs": [],
   "source": [
    "import numpy as np\n",
    "import cv2"
   ]
  },
  {
   "cell_type": "code",
   "execution_count": 7,
   "metadata": {},
   "outputs": [
    {
     "name": "stdout",
     "output_type": "stream",
     "text": [
      "Label = Ben Afflek with a confidence of 90.68315311873681\n"
     ]
    }
   ],
   "source": [
    "haar_cascade = cv2.CascadeClassifier('../../../HaarCascade/haarcascade_frontalface_default.xml')\n",
    "\n",
    "PEOPLE = ['Ben Afflek', 'Elton John', 'Jerry Seinfield', 'Madonna', 'Mindy Kaling']\n",
    "\n",
    "face_recognizer = cv2.face.LBPHFaceRecognizer_create()\n",
    "face_recognizer.read('face_recognizer.yml')\n",
    "\n",
    "img = cv2.imread('./Faces/val/ben_afflek/3.jpg')\n",
    "gray_img = cv2.cvtColor(img, cv2.COLOR_BGR2GRAY)\n",
    "\n",
    "detected_faces = haar_cascade.detectMultiScale(gray_img, 1.1, 4)\n",
    "\n",
    "for (x,y,w,h) in detected_faces:\n",
    "    roi = gray_img[y:y+h,x:x+w]\n",
    "    label, accuracy = face_recognizer.predict(roi)\n",
    "\n",
    "print(f'Label = {PEOPLE[label]} with a confidence of {accuracy}')\n",
    "\n",
    "cv2.putText(img, str(PEOPLE[label]), (20,20), cv2.FONT_HERSHEY_COMPLEX, 1.0, (0,255,0), thickness=2)\n",
    "cv2.rectangle(img, (x,y), (x+w,y+h), (0,255,0), thickness=2)\n",
    "\n",
    "cv2.imshow('Detected Face', img)\n",
    "cv2.waitKey(0)\n",
    "cv2.destroyAllWindows()"
   ]
  }
 ],
 "metadata": {
  "kernelspec": {
   "display_name": "Python 3",
   "language": "python",
   "name": "python3"
  },
  "language_info": {
   "codemirror_mode": {
    "name": "ipython",
    "version": 3
   },
   "file_extension": ".py",
   "mimetype": "text/x-python",
   "name": "python",
   "nbconvert_exporter": "python",
   "pygments_lexer": "ipython3",
   "version": "3.11.6"
  },
  "orig_nbformat": 4
 },
 "nbformat": 4,
 "nbformat_minor": 2
}
